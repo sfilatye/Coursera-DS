{
 "cells": [
  {
   "cell_type": "markdown",
   "metadata": {},
   "source": [
    "# When Is the Good Time to Stroll the Streets of San Francisco Safely?"
   ]
  },
  {
   "cell_type": "markdown",
   "metadata": {},
   "source": [
    "# Introduction"
   ]
  },
  {
   "cell_type": "markdown",
   "metadata": {},
   "source": [
    "For this project I have looked at the crime data for the city of San Francisco that was recorded from June 1, 2014 till August 31, 2014. The questions that I looked into are:"
   ]
  },
  {
   "cell_type": "markdown",
   "metadata": {
    "collapsed": true
   },
   "source": [
    "* how frequency of crime incidents changes during a day\n",
    "* what crimes are most prevalent\n",
    "* how frequencies of these crimes changes during a day "
   ]
  },
  {
   "cell_type": "markdown",
   "metadata": {},
   "source": [
    "# Overall crime picture "
   ]
  },
  {
   "cell_type": "markdown",
   "metadata": {},
   "source": [
    "The following figure shows how the incidents were distributed during the day. There is drop in crime early in the morning between 2 and 7 o'clock with subsequent rise that peaks around 5-6 o'clock in the afternoon.   "
   ]
  },
  {
   "cell_type": "markdown",
   "metadata": {
    "collapsed": true
   },
   "source": [
    "<img src=\"Rplot1.jpeg\" width=\"1000\"  />\n",
    "Figure 1: Overall crime behavior during a day"
   ]
  },
  {
   "cell_type": "markdown",
   "metadata": {
    "collapsed": true
   },
   "source": [
    "# Most frequent crimes"
   ]
  },
  {
   "cell_type": "markdown",
   "metadata": {},
   "source": [
    "The following figure shows that larceny/theft, other offenses, non-criminal, and assault were the most frequently occuring types of crime in June - August of 2014. "
   ]
  },
  {
   "cell_type": "markdown",
   "metadata": {},
   "source": [
    "<img src=\"Rplot2.jpeg\" width=\"1000\"  />\n",
    "Figure 2: Crime statistics"
   ]
  },
  {
   "cell_type": "markdown",
   "metadata": {},
   "source": [
    "# Detailed crime picture"
   ]
  },
  {
   "cell_type": "markdown",
   "metadata": {},
   "source": [
    "Although there are some differences, in general, the four most common offenses behave similar to the total number of offenses in Fig. 1 showing the drop in incidents between 2 am and 7 am (Fig. 3). "
   ]
  },
  {
   "cell_type": "markdown",
   "metadata": {},
   "source": [
    "<img src=\"Rplot3.jpeg\" width=\"1000\"  />\n",
    "Figure 3: The four most common crimes"
   ]
  },
  {
   "cell_type": "markdown",
   "metadata": {
    "collapsed": true
   },
   "source": [
    "Robbery was only 12th on the list of the most frequent crimes during June - August of 2014 (see Fig. 2). However, it is a violent and dangerous crime with an interesting statistics which was different from the four major crimes. Figure 4 shows that there is an overall low crime period between 3 am and 4 pm (with an interesting singular peak around 12 pm) and high crime period at night (around 11 pm - 3 am). It should be noted though that the robbery numbers are significantly lower than the numbers for the top four crimes (Fig. 3). "
   ]
  },
  {
   "cell_type": "markdown",
   "metadata": {},
   "source": [
    "<img src=\"Rplot4.jpeg\" width=\"1000\"  />\n",
    "Figure 4: Robberies during in June - August of 2014"
   ]
  },
  {
   "cell_type": "markdown",
   "metadata": {},
   "source": [
    "# Note to the reviewers"
   ]
  },
  {
   "cell_type": "markdown",
   "metadata": {},
   "source": [
    "Please, note that this report was written in a Jupyter notebook as was suggested in the \"Review and Grading\" section of [the instructions to the homework](https://github.com/uwescience/datasci_course_materials/blob/master/assignment6/crimeanalytics.md)."
   ]
  }
 ],
 "metadata": {
  "kernelspec": {
   "display_name": "Python 2",
   "language": "python",
   "name": "python2"
  },
  "language_info": {
   "codemirror_mode": {
    "name": "ipython",
    "version": 2
   },
   "file_extension": ".py",
   "mimetype": "text/x-python",
   "name": "python",
   "nbconvert_exporter": "python",
   "pygments_lexer": "ipython2",
   "version": "2.7.9"
  }
 },
 "nbformat": 4,
 "nbformat_minor": 0
}
